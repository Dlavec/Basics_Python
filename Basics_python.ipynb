{
 "cells": [
  {
   "cell_type": "markdown",
   "id": "18e0954b-2124-4c30-be40-11fd20cd97c5",
   "metadata": {},
   "source": [
    "#           BASICOS DE PYTHON"
   ]
  },
  {
   "cell_type": "code",
   "execution_count": null,
   "id": "f0631748-1c84-4cef-bc98-b3b6548f5b07",
   "metadata": {},
   "outputs": [
    {
     "name": "stdout",
     "output_type": "stream",
     "text": [
      "Hola mundo\n"
     ]
    }
   ],
   "source": [
    "#El comando mas famoso de python\n",
    "print('Hola mundo')"
   ]
  },
  {
   "cell_type": "code",
   "execution_count": 5,
   "id": "6dfda53a-25b5-4297-ad3f-24fab4b6733b",
   "metadata": {},
   "outputs": [
    {
     "name": "stdout",
     "output_type": "stream",
     "text": [
      "64\n",
      "6\n"
     ]
    }
   ],
   "source": [
    "#Puedo usarlo como calculadora\n",
    "print(8*8)\n",
    "print(2+4)"
   ]
  },
  {
   "cell_type": "code",
   "execution_count": 6,
   "id": "d9138a7d-4e0b-4252-966a-793a12b06c35",
   "metadata": {},
   "outputs": [
    {
     "data": {
      "text/plain": [
       "5.0"
      ]
     },
     "execution_count": 6,
     "metadata": {},
     "output_type": "execute_result"
    }
   ],
   "source": [
    "#Potencia\n",
    "25**0.5"
   ]
  },
  {
   "cell_type": "markdown",
   "id": "50a74714-a953-4794-938a-7f3a47e1cca8",
   "metadata": {},
   "source": [
    "##     VARIABLES"
   ]
  },
  {
   "cell_type": "code",
   "execution_count": 7,
   "id": "72671299-440f-451d-a844-8e523833aff8",
   "metadata": {},
   "outputs": [
    {
     "name": "stdout",
     "output_type": "stream",
     "text": [
      "3\n"
     ]
    }
   ],
   "source": [
    "#Creo variables\n",
    "a=1\n",
    "b=2\n",
    "c=a+b\n",
    "print(a+b)"
   ]
  },
  {
   "cell_type": "code",
   "execution_count": 48,
   "id": "5897ae89-4fda-4075-b0e5-347c75202a1e",
   "metadata": {},
   "outputs": [
    {
     "name": "stdout",
     "output_type": "stream",
     "text": [
      "<class 'str'>\n",
      "<class 'int'>\n",
      "<class 'int'>\n",
      "<class 'float'>\n"
     ]
    }
   ],
   "source": [
    "Nombre = 'Daiana'   #Los caracteres se escriben entre comas\n",
    "a = 5\n",
    "b = 6\n",
    "c = 2.4 \n",
    "\n",
    "#Consulto el tipo de variable y lo imprimo\n",
    "print(type(Nombre)) #string\n",
    "print(type(a))      #integer\n",
    "print(type(b))      #integer\n",
    "print(type(c))      #float"
   ]
  },
  {
   "cell_type": "code",
   "execution_count": 9,
   "id": "2e27db5a-8642-4fea-b208-7960919974aa",
   "metadata": {},
   "outputs": [
    {
     "name": "stdout",
     "output_type": "stream",
     "text": [
      "Pepito es amigo de Santiago\n"
     ]
    }
   ],
   "source": [
    "#Suma de strings: concatenacion\n",
    "Amigo = 'Santiago'\n",
    "Nombre = 'Pepito'\n",
    "\n",
    "print(Nombre + ' es amigo de ' + Amigo)"
   ]
  },
  {
   "cell_type": "code",
   "execution_count": 10,
   "id": "5654eb7c-9032-46e3-b2c6-5f1b741c2584",
   "metadata": {},
   "outputs": [
    {
     "name": "stdout",
     "output_type": "stream",
     "text": [
      "El resultado de la cuenta es 5\n"
     ]
    }
   ],
   "source": [
    "#Hay tipos de variables que no se pueden sumar:\n",
    "#Si sumo float + int todo ok\n",
    "#Si sumo string + int Python tengo que convertir a caracter\n",
    "a = 2+3\n",
    "print('El resultado de la cuenta es ' + str(a))"
   ]
  },
  {
   "cell_type": "code",
   "execution_count": 12,
   "id": "08bb69ca-5a26-45a6-98f9-ff8e4cab116d",
   "metadata": {},
   "outputs": [
    {
     "name": "stdout",
     "output_type": "stream",
     "text": [
      "La fuerza es de 8 N\n"
     ]
    }
   ],
   "source": [
    "#Otra forma de concatenar\n",
    "masa = 2 #Kg\n",
    "aceleracion = 4 #m/s^2\n",
    "fuerza = masa*aceleracion\n",
    "\n",
    "print(f'La fuerza es de {fuerza} N')"
   ]
  },
  {
   "cell_type": "markdown",
   "id": "e5ef2e9b-23e8-4d19-a86f-7de5b4975af6",
   "metadata": {},
   "source": [
    "##      BOOLEANOS O LOGICOS"
   ]
  },
  {
   "cell_type": "code",
   "execution_count": 13,
   "id": "08291b24-7ba6-404b-b115-90161347d744",
   "metadata": {},
   "outputs": [
    {
     "name": "stdout",
     "output_type": "stream",
     "text": [
      "True\n",
      "False\n",
      "2\n"
     ]
    }
   ],
   "source": [
    "#Devuelven  True o False\n",
    "r1 = True\n",
    "print(r1)\n",
    "print(not r1)\n",
    "print(2*r1)"
   ]
  },
  {
   "cell_type": "code",
   "execution_count": 14,
   "id": "b694b183-a264-417f-bfb6-93b2c4f95854",
   "metadata": {},
   "outputs": [
    {
     "name": "stdout",
     "output_type": "stream",
     "text": [
      "False\n",
      "True\n",
      "False\n",
      "True\n"
     ]
    }
   ],
   "source": [
    "print(2==1)\n",
    "print(2==2)\n",
    "print(6>6)\n",
    "print(6>=6)"
   ]
  },
  {
   "cell_type": "code",
   "execution_count": 16,
   "id": "d28432e8-49d7-469c-976e-279d9904a075",
   "metadata": {},
   "outputs": [
    {
     "name": "stdout",
     "output_type": "stream",
     "text": [
      "True\n",
      "False\n",
      "True\n",
      "False\n"
     ]
    }
   ],
   "source": [
    "print(2==3 or 3<9)\n",
    "print(2==3 and 3<9)\n",
    "print(r1 or 6<1)\n",
    "print(r1 and 6<1)"
   ]
  },
  {
   "cell_type": "markdown",
   "id": "3fe1a3e6-8c1a-4a81-a4f5-d7e637a41d39",
   "metadata": {},
   "source": [
    "##     LISTAS\n",
    "Conjuntos ordenados\n",
    "Se definen usando corchetes, los elementos van separados por coma  y pueden ser cualquier tipo de dato\n",
    "incluso otras listas"
   ]
  },
  {
   "cell_type": "code",
   "execution_count": 21,
   "id": "80411db9-6e24-4f22-bc41-5bd78ec647d1",
   "metadata": {},
   "outputs": [
    {
     "name": "stdout",
     "output_type": "stream",
     "text": [
      "[2, 3, 8, -1, -5.2]\n",
      "3\n",
      "[4, 'hola', [4, 5], 5]\n",
      "4\n",
      "-5.2\n",
      "[2, 3, 99, -1, -5.2]\n"
     ]
    }
   ],
   "source": [
    "lista = [2, 3, 8, -1, -5.2]\n",
    "print(lista)\n",
    "print(lista[1])   #Elemento nro. 1 (empiezo a contar de 0)\n",
    "\n",
    "lista2 = [4, 'hola', [4,5], a]\n",
    "print(lista2)\n",
    "print(lista2[0])\n",
    "print(lista[-1])  #Ultimo elemento\n",
    "\n",
    "lista[2] = 99  #Reemplazo el elemento nro 2 por 99\n",
    "print(lista)"
   ]
  },
  {
   "cell_type": "code",
   "execution_count": 23,
   "id": "1b00175d-2bfd-44e7-abd4-e4d34c9285ed",
   "metadata": {},
   "outputs": [
    {
     "name": "stdout",
     "output_type": "stream",
     "text": [
      "[2, 3, 99, -1, -5.2]\n",
      "[4, 'hola', [4, 5], 5]\n",
      "[2, 3, 99, -1, -5.2, 4, 'hola', [4, 5], 5]\n"
     ]
    },
    {
     "data": {
      "text/plain": [
       "list"
      ]
     },
     "execution_count": 23,
     "metadata": {},
     "output_type": "execute_result"
    }
   ],
   "source": [
    "print(lista)\n",
    "print(lista2)\n",
    "print(lista + lista2)  #Concateno listas\n",
    "type(lista)            #me devuelve una nueva lista"
   ]
  },
  {
   "cell_type": "markdown",
   "id": "92066c4f-c369-412e-8e38-c346c4c7ce3e",
   "metadata": {},
   "source": [
    "#       RANGE\n",
    "Genera una secuencia de integers\n",
    "range(stop)\n",
    "range(start, stop, step)"
   ]
  },
  {
   "cell_type": "code",
   "execution_count": 32,
   "id": "343a8d46-7689-4aff-90ee-14412d0e1fb9",
   "metadata": {},
   "outputs": [
    {
     "name": "stdout",
     "output_type": "stream",
     "text": [
      "range(0, 5)\n",
      "0 1 2 3\n",
      "2 3\n",
      "range(2, 20, 3)\n",
      "17\n"
     ]
    }
   ],
   "source": [
    "f =range(5)\n",
    "print(f)\n",
    "print(f[0], f[1], f[2], f[3])\n",
    "g = range(2,9)\n",
    "print(g[0], g[1])\n",
    "h = range(2,20, 3) #range(start, stop, step)\n",
    "print(h) \n",
    "print(h[5])"
   ]
  },
  {
   "cell_type": "markdown",
   "id": "d3b99945-62f8-46bd-bb9e-1bace045650b",
   "metadata": {},
   "source": [
    "##            CICLOS Y CONDICIONALES\n",
    "*for permite repetir una secuencia de comandos (iterar) sobre los distintos elementos de una lista\n",
    "*if nos va a permitir pedirle a Python, según alguna condición que haga o no una cosa\n",
    "*while es como el for pero se va a repetir solamente mientras se cumpla una condición\n"
   ]
  },
  {
   "cell_type": "code",
   "execution_count": 34,
   "id": "cf5ca0fa-be54-4040-beec-e46a3f0986f8",
   "metadata": {},
   "outputs": [
    {
     "name": "stdout",
     "output_type": "stream",
     "text": [
      "2\n",
      "3\n",
      "99\n",
      "-1\n",
      "-5.2\n",
      "[2, 3, 99, -1, -5.2]\n"
     ]
    }
   ],
   "source": [
    "for i in lista: #Dentro del for, el elemento que esté usando en esa vuelta se llamará i\n",
    "  print(i)\n",
    "\n",
    "print(lista) # Esta linea no está indentada así que se ejecuta una sola vez "
   ]
  },
  {
   "cell_type": "code",
   "execution_count": 35,
   "id": "a44d0113-df42-4074-8a04-aa7cc7056ebe",
   "metadata": {},
   "outputs": [
    {
     "name": "stdout",
     "output_type": "stream",
     "text": [
      "El número es menor a 10\n"
     ]
    }
   ],
   "source": [
    "n= 7\n",
    "#Si n<10 pido que muestre la layenda\n",
    "if n < 10:         \n",
    "  print('El número es menor a 10')"
   ]
  },
  {
   "cell_type": "code",
   "execution_count": 36,
   "id": "9a91e379-5f98-4964-a507-5447457a12e3",
   "metadata": {},
   "outputs": [
    {
     "name": "stdout",
     "output_type": "stream",
     "text": [
      "el número es menor o igual a 5\n"
     ]
    }
   ],
   "source": [
    "n1 = 7 \n",
    "if a <= 5: #menor igual\n",
    "  print('el número es menor o igual a 5')\n",
    "else:      #si no ocurre lo pedido\n",
    "  print('el número es mayor a 5')"
   ]
  },
  {
   "cell_type": "code",
   "execution_count": 37,
   "id": "8544f43d-8e9b-4c1b-b5ee-9dfebf78900d",
   "metadata": {},
   "outputs": [
    {
     "name": "stdout",
     "output_type": "stream",
     "text": [
      "[2, 3, 99, -1, -5.2]\n",
      "el número 2 es menor o igual a 5\n",
      "el número 3 es menor o igual a 5\n",
      "el número 99 es mayor a 5\n",
      "el número -1 es menor o igual a 5\n",
      "el número -5.2 es menor o igual a 5\n"
     ]
    }
   ],
   "source": [
    "#Tambien se pueden combinar\n",
    "print(lista)\n",
    "\n",
    "for i in lista:\n",
    "  if i <= 5:       #si i es menor igual que 5\n",
    "    print('el número ' + str(i) + ' es menor o igual a 5')\n",
    "  else             #si i no cumple con la condicion\n",
    "    print('el número ' + str(i) + ' es mayor a 5')"
   ]
  },
  {
   "cell_type": "code",
   "execution_count": 39,
   "id": "31c2c4b5-b591-4a8d-b79c-e342255bb119",
   "metadata": {},
   "outputs": [
    {
     "name": "stdout",
     "output_type": "stream",
     "text": [
      "[2, 3, 99, -1, -5.2]\n",
      "2\n",
      "3\n"
     ]
    }
   ],
   "source": [
    "print(lista)\n",
    "\n",
    "for i in lista:\n",
    "  if i <= 5:     #si i es menor igual que 5\n",
    "    print(i)\n",
    "  else:          #si no cumple la condicion\n",
    "    break        #romper el loop"
   ]
  },
  {
   "cell_type": "code",
   "execution_count": 45,
   "id": "f431075c-e5fe-4808-a6ba-c1132e4830a9",
   "metadata": {},
   "outputs": [
    {
     "name": "stdout",
     "output_type": "stream",
     "text": [
      "0\n",
      "1\n",
      "2\n",
      "3\n",
      "4\n",
      "5\n"
     ]
    }
   ],
   "source": [
    "n = 0\n",
    "while n <= 5 : #Mientras que n sea menos igual que 5\n",
    "  print(n)\n",
    "  n = n+1 #Reescribo n para no entrar en un loop infinito\n",
    "          #Otra forma más compacta de escribir esta ultima linea es n += 1"
   ]
  },
  {
   "cell_type": "code",
   "execution_count": 46,
   "id": "ab5298d7-0c4e-44b2-b07d-301dece0de9f",
   "metadata": {},
   "outputs": [
    {
     "name": "stdout",
     "output_type": "stream",
     "text": [
      "[1, 2, 3, 4, 5]\n"
     ]
    }
   ],
   "source": [
    "lista = []   #Creo una lista vacia\n",
    "n = 1\n",
    "while n <= 5 :      #Mientras n sea menor igual que 5\n",
    "  lista.append(n)   #Guardo los valores en lista\n",
    "  n = n+1           #Reescribo n\n",
    "#Es importante el orden en que pongo estas ultimas dos sentencias!!\n",
    "  \n",
    "print(lista)"
   ]
  },
  {
   "cell_type": "code",
   "execution_count": 47,
   "id": "58bfeee1-586d-41df-a7fe-3e63200f1454",
   "metadata": {},
   "outputs": [
    {
     "name": "stdout",
     "output_type": "stream",
     "text": [
      "[2, 3, 4, 5, 6]\n"
     ]
    }
   ],
   "source": [
    "#Veamos que pasa si altero el orden:\n",
    "lista = []   #Creo una lista vacia\n",
    "n = 1\n",
    "while n <= 5 :      #Mientras n sea menor igual que 5\n",
    "  n = n+1           #Reescribo n\n",
    "  lista.append(n)   #Guardo los valores en lista\n",
    "\n",
    "print(lista)"
   ]
  },
  {
   "cell_type": "markdown",
   "id": "383f43dc-67f8-4915-b538-0201667e098c",
   "metadata": {},
   "source": [
    "##            FUNCIONES\n",
    "Si vamos a usar muchas veces una misma secuencia de comandos conviene crear una funcion"
   ]
  },
  {
   "cell_type": "code",
   "execution_count": 50,
   "id": "4b9cd762-61db-4f77-9ca5-a71ee69638b6",
   "metadata": {},
   "outputs": [
    {
     "data": {
      "text/plain": [
       "'HOLA'"
      ]
     },
     "execution_count": 50,
     "metadata": {},
     "output_type": "execute_result"
    }
   ],
   "source": [
    "def myhello(): \n",
    "    return 'HOLA'  #Creo una funcion que devuelve Hola\n",
    "\n",
    "#Probemoslo\n",
    "myhello()         "
   ]
  },
  {
   "cell_type": "code",
   "execution_count": 52,
   "id": "ff04f29d-ac36-4d05-9f75-b5a42669f111",
   "metadata": {},
   "outputs": [
    {
     "data": {
      "text/plain": [
       "'HOLA Daiana'"
      ]
     },
     "execution_count": 52,
     "metadata": {},
     "output_type": "execute_result"
    }
   ],
   "source": [
    "def say_hello(name):\n",
    "    out = 'HOLA ' + name  #Creo una funcion que devuelva Hola + nombre que se ingrese\n",
    "    return out\n",
    "\n",
    "say_hello('Daiana')"
   ]
  },
  {
   "cell_type": "code",
   "execution_count": 53,
   "id": "9c30f345-458c-4492-a79b-2a563a9b8c8f",
   "metadata": {},
   "outputs": [
    {
     "data": {
      "text/plain": [
       "10"
      ]
     },
     "execution_count": 53,
     "metadata": {},
     "output_type": "execute_result"
    }
   ],
   "source": [
    "def suma(a,b):    \n",
    "    out = a + b  #Creo una funcion que devuelva la suma de dos valores ingresados\n",
    "    return out\n",
    "\n",
    "suma(5,5)"
   ]
  },
  {
   "cell_type": "code",
   "execution_count": null,
   "id": "b25ae39c-8ce0-4b7b-bfb2-fc033e700df5",
   "metadata": {},
   "outputs": [],
   "source": []
  }
 ],
 "metadata": {
  "kernelspec": {
   "display_name": "Python 3 (ipykernel)",
   "language": "python",
   "name": "python3"
  },
  "language_info": {
   "codemirror_mode": {
    "name": "ipython",
    "version": 3
   },
   "file_extension": ".py",
   "mimetype": "text/x-python",
   "name": "python",
   "nbconvert_exporter": "python",
   "pygments_lexer": "ipython3",
   "version": "3.9.13"
  }
 },
 "nbformat": 4,
 "nbformat_minor": 5
}
