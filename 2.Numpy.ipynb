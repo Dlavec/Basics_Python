{
 "cells": [
  {
   "cell_type": "markdown",
   "id": "ebfbe013-8bd4-468e-9ce9-00ae5a9807c6",
   "metadata": {},
   "source": [
    "#LIBRERIAS CIENTIFICAS\n",
    "Las librerías son un conjunto de funciones y sirven como agregado a las funciones que ya tenemos inicialmente. Algunas librerías útiles son:\n"
    "*Cálculo numérico:\n",
    "Numpy\n",
    "Scipy\n",
    "\n",
    "*Gráficos:\n",
    "Matplotlib\n",
    "\n",
    "*Otros\n",
    "Sympy (lenguaje simbólico)\n",
    "Pandas (Análisis de datos)\n",
    "\n",
    "## NUMPY\n",
    "Librería fundamental para cálculo numérico que nos trae el concepto de vector o matriz, autovectores y autovalores, y también otras cosas como cosenos, senos, números como  π  o como e."
   ]
  },
  {
   "cell_type": "code",
   "execution_count": 1,
   "id": "87a242df-3536-491f-9657-2b8ba3f08628",
   "metadata": {},
   "outputs": [
    {
     "name": "stdout",
     "output_type": "stream",
     "text": [
      "1\n",
      "4\n",
      "6\n",
      "[5 3 4]\n",
      "[3 8 4 8 6]\n",
      "[ 2 15  3 16  0]\n",
      "36\n",
      "[3 7 5 6 8]\n"
     ]
    }
   ],
   "source": [
    "import numpy as np          #Importo la libreria y le asigno un nombre\n",
    "\n",
    "a = np.array([1,5,3,4,6])   #Transformo una lista en un array\n",
    "\n",
    "print(a[0])\n",
    "print(a[3])\n",
    "print(a[-1])\n",
    "print(a[1:4]) \n",
    "#Hasta acá todo igual a las listas\n",
    "\n",
    "b = np.array([2,3,1,4,0])   #Transformo una lista en un array\n",
    "\n",
    "print(a+b)      #Suma como vectores (componente a componente)\n",
    "\n",
    "print(a*b)      #Producto componente a componente\n",
    "\n",
    "prodescalar = sum(a*b)  #Producto escalar\n",
    "print(prodescalar)\n",
    "\n",
    "print(a+2)      #Le sumo 2 a cada componente de a"
   ]
  },
  {
   "cell_type": "markdown",
   "id": "bda0108c-30f1-4d7b-8d16-6cde0c2e3fa2",
   "metadata": {},
   "source": [
    "##Matrices"
   ]
  },
  {
   "cell_type": "code",
   "execution_count": 2,
   "id": "72407743-16bf-4c73-b9a0-cc88a6754ebf",
   "metadata": {},
   "outputs": [
    {
     "name": "stdout",
     "output_type": "stream",
     "text": [
      "[[1 2 3]\n",
      " [1 2 3]\n",
      " [1 2 3]]\n"
     ]
    }
   ],
   "source": [
    "M = np.array([[1,2,3],[1,2,3],[1,2,3]])  #Las matrices las armo igual pero con una lista de listas\n",
    "print(M)"
   ]
  },
  {
   "cell_type": "code",
   "execution_count": 3,
   "id": "611aaceb-0850-44f6-9d71-9af124bb8411",
   "metadata": {},
   "outputs": [
    {
     "name": "stdout",
     "output_type": "stream",
     "text": [
      "[[0. 0. 0. 0. 0.]\n",
      " [0. 0. 0. 0. 0.]]\n",
      "[[1. 1. 1. 1. 1.]\n",
      " [1. 1. 1. 1. 1.]]\n",
      "(2, 5)\n",
      "[1 1 1]\n"
     ]
    }
   ],
   "source": [
    "#Otra forma de definir matrices y vectores:\n",
    "\n",
    "A = np.zeros([2,5]) #Crea una matriz de ceros, 2 filas y 5 columnas\n",
    "B = np.ones([2,5]) #Idem pero matriz de unos\n",
    "\n",
    "print(A)\n",
    "print(B)\n",
    "print(np.shape(A))  #Devuelve el tamaño de la matriz\n",
    "print(M[:,0])       #Me devuelve la columna completa"
   ]
  },
  {
   "cell_type": "code",
   "execution_count": 4,
   "id": "24649ce0-5ad6-4e06-97a4-180c803f9b1e",
   "metadata": {},
   "outputs": [
    {
     "name": "stdout",
     "output_type": "stream",
     "text": [
      "[[ 3  6  9]\n",
      " [ 6 12 18]\n",
      " [ 9 18 27]]\n"
     ]
    }
   ],
   "source": [
    "L = M.T             #Transpuesta de M\n",
    "print(np.dot(L,M))  #Producto matricial"
   ]
  },
  {
   "cell_type": "markdown",
   "id": "1103af45-2f58-43ec-9eee-ca3e28ac9693",
   "metadata": {},
   "source": [
    "##Linspace y arrange\n",
    "Otra forma de generar vectores muy util"
   ]
  },
  {
   "cell_type": "code",
   "execution_count": 5,
   "id": "8a98e837-cdf5-4318-a440-76276c64226a",
   "metadata": {},
   "outputs": [
    {
     "name": "stdout",
     "output_type": "stream",
     "text": [
      "[0.   0.25 0.5  0.75 1.  ]\n",
      "[0.  0.5 1.  1.5 2.  2.5 3.  3.5 4.  4.5]\n"
     ]
    }
   ],
   "source": [
    "print(np.linspace(0,1,5)) #np.linspace(start, stop, cant de componentes)\n",
    "print(np.arange(0,5,0.5)) #np.arange(start stop, step)"
   ]
  }
 ],
 "metadata": {
  "kernelspec": {
   "display_name": "Python 3 (ipykernel)",
   "language": "python",
   "name": "python3"
  },
  "language_info": {
   "codemirror_mode": {
    "name": "ipython",
    "version": 3
   },
   "file_extension": ".py",
   "mimetype": "text/x-python",
   "name": "python",
   "nbconvert_exporter": "python",
   "pygments_lexer": "ipython3",
   "version": "3.9.13"
  }
 },
 "nbformat": 4,
 "nbformat_minor": 5
}
